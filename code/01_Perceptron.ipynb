{
 "cells": [
  {
   "cell_type": "markdown",
   "metadata": {},
   "source": [
    "# Neural Network introduction"
   ]
  },
  {
   "cell_type": "markdown",
   "metadata": {},
   "source": [
    "## PERCEPTRON"
   ]
  },
  {
   "cell_type": "code",
   "execution_count": 13,
   "metadata": {},
   "outputs": [],
   "source": [
    "import numpy as np"
   ]
  },
  {
   "cell_type": "code",
   "execution_count": 14,
   "metadata": {},
   "outputs": [],
   "source": [
    "# to get PIL -> pip install Pillow\n",
    "from PIL import Image\n",
    "from IPython.display import display\n",
    "\n",
    "def red_png(path, factor=0.3, yes=0 , source = \"DeepLearningIASD.pdf Tristan Cazenave PSL Dauphine\"):\n",
    "    '''This function to display a reduce image.png\n",
    "    Args:\n",
    "        path : directory/image.png\n",
    "        factor : the reduction factor\n",
    "        yes : set to 0 by default, if put to 1 it means that the size before and after will be displayed\n",
    "    '''\n",
    "    img = Image.open(path)\n",
    "    if yes:\n",
    "        print(\"Taille d'origine :\", img.size)\n",
    "\n",
    "    # Redimensionner l'image à 50% de sa taille d'origine\n",
    "    new_size = (int(img.width * factor), int(img.height * factor))\n",
    "    img_resized = img.resize(new_size)\n",
    "\n",
    "    # Afficher la nouvelle taille de l'image\n",
    "    if yes:\n",
    "        print(\"Nouvelle taille :\", img_resized.size)\n",
    "\n",
    "    # Afficher l'image redimensionnée dans le notebook\n",
    "    display(img_resized)\n",
    "    print(f'Source: ', source)"
   ]
  },
  {
   "cell_type": "markdown",
   "metadata": {},
   "source": [
    "## 1. **Perceptron with a single input**"
   ]
  },
  {
   "cell_type": "code",
   "execution_count": 31,
   "metadata": {},
   "outputs": [
    {
     "data": {
      "image/png": "[encoded data removed]",
      "text/plain": [
       "<PIL.Image.Image image mode=RGBA size=528x165>"
      ]
     },
     "metadata": {},
     "output_type": "display_data"
    },
    {
     "name": "stdout",
     "output_type": "stream",
     "text": [
      "Source:  David-Tbo\n"
     ]
    }
   ],
   "source": [
    "red_png(r'./../png/Perceptron_one_input.png', source = \"David-Tbo\", factor=.46)"
   ]
  },
  {
   "cell_type": "markdown",
   "metadata": {},
   "source": [
    "### The Forward Pass"
   ]
  },
  {
   "cell_type": "code",
   "execution_count": 15,
   "metadata": {},
   "outputs": [
    {
     "name": "stdout",
     "output_type": "stream",
     "text": [
      "in = [0.5]\n",
      "W_hidden : [[1.76405235]]\n",
      "b_hidden : [0.40015721]\n",
      "net = [1.28218338]\n",
      "out = [0.78282121]\n"
     ]
    }
   ],
   "source": [
    "x = 0.5\n",
    "target = 0.9\n",
    "\n",
    "# Fixe the seed for reproductibility\n",
    "np.random.seed(0)\n",
    "\n",
    "# Convert x to a numpy array for matrix multiplication\n",
    "x = np.array([x])\n",
    "\n",
    "# number of inputs\n",
    "n_inputs = 1\n",
    "\n",
    "# number of neurons in the layer = layer size = layer dimension\n",
    "n_size = 1\n",
    "\n",
    "# Weights and bias random initialisation with explicit dimensions\n",
    "w_hidden = np.random.randn(n_inputs, n_size)\n",
    "b_hidden = np.random.randn(n_size,)\n",
    "\n",
    "# Numpy .dot product\n",
    "net = np.dot(x, w_hidden.T) + b_hidden\n",
    "\n",
    "# apply non linear sigmoide\n",
    "out = 1/(1 + np.exp(-net))\n",
    "\n",
    "print(f\"in = {x}\")\n",
    "print(f\"W_hidden : {w_hidden}\")\n",
    "print(f\"b_hidden : {b_hidden}\")\n",
    "print(f\"net = {net}\")\n",
    "print(f\"out = {out}\")"
   ]
  },
  {
   "cell_type": "markdown",
   "metadata": {},
   "source": [
    "### The Loss"
   ]
  },
  {
   "cell_type": "markdown",
   "metadata": {},
   "source": [
    "Loss (error) after the forward pass, with the initial weights"
   ]
  },
  {
   "cell_type": "code",
   "execution_count": 16,
   "metadata": {},
   "outputs": [
    {
     "name": "stdout",
     "output_type": "stream",
     "text": [
      "initial quadratic MSE: [0.01373087]\n"
     ]
    }
   ],
   "source": [
    "err_out = (out - target)**2\n",
    "print(f\"initial quadratic MSE: {err_out}\")"
   ]
  },
  {
   "cell_type": "code",
   "execution_count": 17,
   "metadata": {},
   "outputs": [],
   "source": [
    "# The mean square error function\n",
    "def loss_mse(x,y):\n",
    "    err = np.mean((x-y)**2)\n",
    "    return err"
   ]
  },
  {
   "cell_type": "code",
   "execution_count": 18,
   "metadata": {},
   "outputs": [
    {
     "data": {
      "text/plain": [
       "np.float64(0.01373086952270615)"
      ]
     },
     "execution_count": 18,
     "metadata": {},
     "output_type": "execute_result"
    }
   ],
   "source": [
    "loss_mse(out, target)"
   ]
  },
  {
   "cell_type": "markdown",
   "metadata": {},
   "source": [
    "### The backpropagation"
   ]
  },
  {
   "cell_type": "code",
   "execution_count": 19,
   "metadata": {},
   "outputs": [],
   "source": [
    "# The Gradient of the Loss\n",
    "dloss_dout = out - target\n",
    "dout_dnet = out*(1-out)\n",
    "dnet_dw = x\n",
    "dnet_db = 1\n",
    "\n",
    "# The chain rule\n",
    "dloss_dw = dloss_dout*dout_dnet*dnet_dw\n",
    "dloss_db = dloss_dout*dout_dnet*dnet_db"
   ]
  },
  {
   "cell_type": "code",
   "execution_count": 20,
   "metadata": {},
   "outputs": [],
   "source": [
    "# learning rate\n",
    "lr = 0.1\n",
    "\n",
    "# Update weights and bias\n",
    "w_hidden = w_hidden - lr*dloss_dw\n",
    "b_hidden = b_hidden - lr*dloss_db"
   ]
  },
  {
   "cell_type": "code",
   "execution_count": 21,
   "metadata": {},
   "outputs": [
    {
     "name": "stdout",
     "output_type": "stream",
     "text": [
      "quadratic MSE after one iteration: 0.013631898662298006\n"
     ]
    }
   ],
   "source": [
    "# Updates out and the loss\n",
    "net = np.dot(x, w_hidden) + b_hidden\n",
    "out = 1/(1 + np.exp(-net))\n",
    "err_out = loss_mse(out, target)\n",
    "\n",
    "print(f\"quadratic MSE after one iteration: {err_out}\")"
   ]
  },
  {
   "cell_type": "code",
   "execution_count": 22,
   "metadata": {},
   "outputs": [
    {
     "name": "stdout",
     "output_type": "stream",
     "text": [
      "Weights (w): [[1.76405235]]\n",
      "Bias (b): [0.40015721]\n",
      "Output (out): [0.78282121]\n",
      "Initial Loss MSE (L): 0.01373086952270615\n",
      "Final Loss MSE (L):  0.0002896582804301954\n"
     ]
    }
   ],
   "source": [
    "# Class Perceptron: version 1.0.\n",
    "import numpy as np\n",
    "\n",
    "# Fix the seed for reproducibility\n",
    "np.random.seed(0)\n",
    "\n",
    "x = 0.5\n",
    "target = 0.9\n",
    "# Convert x to a numpy array for matrix multiplication\n",
    "x = np.array([x])\n",
    "\n",
    "# Example usage\n",
    "n_inputs = 1  # Number of inputs\n",
    "layer_size = 1  # Number of neurons in the layer\n",
    "# n_iter = 100  # Number of iterations\n",
    "\n",
    "class Perceptron:\n",
    "\n",
    "    def __init__(self, n_inputs, layer_size, n_iter=100, lr=0.1):\n",
    "        self.n_inputs = n_inputs\n",
    "        self.layer_size = layer_size\n",
    "        self.n_iter = n_iter\n",
    "        self.lr = lr\n",
    "        self.w = np.random.randn(self.n_inputs, self.layer_size)\n",
    "        self.b = np.random.randn(self.layer_size,)\n",
    "        self.out = None  # Initialize out\n",
    "\n",
    "    def sigmoid(self, z):\n",
    "        return 1 / (1 + np.exp(-z))\n",
    "\n",
    "    def fwd_pass(self, X):\n",
    "        self.X = X\n",
    "        net = np.dot(self.X, self.w) + self.b\n",
    "        out = self.sigmoid(net)\n",
    "        self.out = out  # Store the output\n",
    "        return out\n",
    "\n",
    "    def loss_mse(self, x, y):\n",
    "        return np.mean((x - y) ** 2)\n",
    "\n",
    "    def grad_loss(self):\n",
    "        for _ in range(self.n_iter):\n",
    "            # The Gradients of the Loss\n",
    "            dloss_dout = self.out - target\n",
    "            dout_dnet = self.out * (1 - self.out)\n",
    "            dnet_dw = self.X\n",
    "            dnet_db = 1\n",
    "            # The Chain rule\n",
    "            dloss_dw = dloss_dout * dout_dnet * dnet_dw\n",
    "            dloss_db = dloss_dout * dout_dnet * dnet_db\n",
    "\n",
    "            # Update weights and bias\n",
    "            self.w = self.w - self.lr * dloss_dw\n",
    "            self.b = self.b - self.lr * dloss_db\n",
    "\n",
    "            # Update the output\n",
    "            self.out = self.fwd_pass(self.X)\n",
    "        return self.out\n",
    "\n",
    "perceptron = Perceptron(n_inputs, layer_size, n_iter=1000)\n",
    "print(f\"Weights (w): {perceptron.w}\")\n",
    "print(f\"Bias (b): {perceptron.b}\")\n",
    "\n",
    "out = perceptron.fwd_pass(x)\n",
    "print(f\"Output (out): {out}\")\n",
    "\n",
    "loss = perceptron.loss_mse(out, target)\n",
    "print(f\"Initial Loss MSE (L): {loss}\")\n",
    "\n",
    "out = perceptron.grad_loss()  # Call grad_loss as a method\n",
    "loss = perceptron.loss_mse(out, target)\n",
    "print(f\"Final Loss MSE (L):  {loss}\")"
   ]
  },
  {
   "cell_type": "markdown",
   "metadata": {},
   "source": [
    "## 2. **Perceptron with a several inputs**"
   ]
  },
  {
   "cell_type": "code",
   "execution_count": 27,
   "metadata": {},
   "outputs": [
    {
     "data": {
      "image/png": "[encoded data removed]",
      "text/plain": [
       "<PIL.Image.Image image mode=RGBA size=528x165>"
      ]
     },
     "metadata": {},
     "output_type": "display_data"
    },
    {
     "name": "stdout",
     "output_type": "stream",
     "text": [
      "Source:  David-Tbo\n"
     ]
    }
   ],
   "source": [
    "red_png(r'./../png/Perceptron_two_inputs.png', source = \"David-Tbo\", factor=.46)"
   ]
  },
  {
   "cell_type": "code",
   "execution_count": 24,
   "metadata": {},
   "outputs": [
    {
     "name": "stdout",
     "output_type": "stream",
     "text": [
      "Weights (w): [[1.76405235]\n",
      " [0.40015721]\n",
      " [0.97873798]]\n",
      "Bias (b): [2.2408932]\n",
      "Output (out): [0.98246657]\n",
      "Initial Loss MSE (L): 0.006800735021613126\n",
      "Final Loss MSE (L): 0.006719100331128431\n"
     ]
    }
   ],
   "source": [
    "# Class Perceptron: version 1.1.\n",
    "\n",
    "import numpy as np\n",
    "# Fix the seed for reproducibility\n",
    "np.random.seed(0)\n",
    "\n",
    "\n",
    "# Example with three inputs:\n",
    "x = [0.5, 0.3, 0.8]\n",
    "target = 0.9\n",
    "\n",
    "# Convert x to a numpy array for matrix multiplication\n",
    "x = np.array(x)\n",
    "\n",
    "n_inputs = 3  # Number of inputs\n",
    "layer_size = 1  # Number of neurons in the layer\n",
    "\n",
    "\n",
    "class Perceptron:\n",
    "\n",
    "    def __init__(self, n_inputs, layer_size, n_iter=100, lr=0.1):\n",
    "        self.n_inputs = n_inputs\n",
    "        self.layer_size = layer_size\n",
    "        self.n_iter = n_iter\n",
    "        self.lr = lr\n",
    "        self.w = np.random.randn(self.n_inputs, self.layer_size)\n",
    "        self.b = np.random.randn(self.layer_size,)\n",
    "        self.out = None  # Initialize out\n",
    "\n",
    "    def sigmoid(self, z):\n",
    "        return 1 / (1 + np.exp(-z))\n",
    "\n",
    "    def fwd_pass(self, X):\n",
    "        self.X = X\n",
    "        net = np.dot(self.X, self.w) + self.b\n",
    "        out = self.sigmoid(net)\n",
    "        self.out = out  # Store the output\n",
    "        return out\n",
    "\n",
    "    def loss_mse(self, x, y):\n",
    "        return np.mean((x - y) ** 2)\n",
    "\n",
    "    def grad_loss(self, target):\n",
    "        for _ in range(self.n_iter):\n",
    "            # The Gradients of the Loss\n",
    "            dloss_dout = self.out - target\n",
    "            dout_dnet = self.out * (1 - self.out)\n",
    "            dnet_dw = self.X.reshape(-1, 1)  # Reshape X for correct dimension alignment\n",
    "            dnet_db = 1\n",
    "            # The Chain rule\n",
    "            dloss_dw = dnet_dw * (dloss_dout * dout_dnet)\n",
    "            dloss_db = dloss_dout * dout_dnet * dnet_db\n",
    "\n",
    "            # Update weights and bias\n",
    "            self.w = self.w - self.lr * dloss_dw\n",
    "            self.b = self.b - self.lr * dloss_db\n",
    "\n",
    "            # Update the output\n",
    "            self.out = self.fwd_pass(self.X)\n",
    "        return self.out\n",
    "\n",
    "perceptron = Perceptron(n_inputs, layer_size, n_iter=100)\n",
    "print(f\"Weights (w): {perceptron.w}\")\n",
    "print(f\"Bias (b): {perceptron.b}\")\n",
    "\n",
    "out = perceptron.fwd_pass(x)\n",
    "print(f\"Output (out): {out}\")\n",
    "\n",
    "loss = perceptron.loss_mse(out, target)\n",
    "print(f\"Initial Loss MSE (L): {loss}\")\n",
    "\n",
    "out = perceptron.grad_loss(target)  # Call grad_loss as a method\n",
    "loss = perceptron.loss_mse(out, target)\n",
    "print(f\"Final Loss MSE (L): {loss}\")"
   ]
  },
  {
   "cell_type": "code",
   "execution_count": 26,
   "metadata": {},
   "outputs": [
    {
     "name": "stdout",
     "output_type": "stream",
     "text": [
      "Weights (w): [[1.76405235]\n",
      " [0.40015721]]\n",
      "Bias (b): [0.97873798]\n",
      "Output (out): [0.87876762]\n",
      "Initial Loss MSE (L): 0.0004508138467457037\n",
      "Final Loss MSE (L): 0.0003346739641201859\n"
     ]
    }
   ],
   "source": [
    "# Class Perceptron: version 1.2.\n",
    "\n",
    "import numpy as np\n",
    "\n",
    "# Fix the seed for reproducibility\n",
    "np.random.seed(0)\n",
    "\n",
    "# Example with three inputs:\n",
    "x = [0.5, 0.3, 0.8]\n",
    "x = [0.5, 0.3]\n",
    "target = 0.9\n",
    "\n",
    "# Example usage\n",
    "# layer_size = 1  # Number of neurons in the layer\n",
    "\n",
    "class Perceptron:\n",
    "\n",
    "    def __init__(self, x, layer_size=1, n_iter=100, lr=0.1):\n",
    "        # convert if x not a np.array()\n",
    "        if not isinstance(x, np.ndarray):\n",
    "            x = np.array(x)\n",
    "        self.X = x\n",
    "        self.n_inputs = x.shape[0]\n",
    "        self.layer_size = layer_size\n",
    "        self.n_iter = n_iter\n",
    "        self.lr = lr\n",
    "        self.w = np.random.randn(self.n_inputs, self.layer_size)\n",
    "        self.b = np.random.randn(self.layer_size,)\n",
    "        self.out = None  # Initialize out\n",
    "\n",
    "    def sigmoid(self, z):\n",
    "        return 1 / (1 + np.exp(-z))\n",
    "\n",
    "    def fwd_pass(self):\n",
    "        net = np.dot(self.X, self.w) + self.b\n",
    "        out = self.sigmoid(net)\n",
    "        self.out = out  # Store the output\n",
    "        return out\n",
    "\n",
    "    def loss_mse(self, x, y):\n",
    "        return np.mean((x - y) ** 2)\n",
    "\n",
    "    def grad_loss(self, target):\n",
    "        for _ in range(self.n_iter):\n",
    "            # The Gradients of the Loss\n",
    "            dloss_dout = self.out - target\n",
    "            dout_dnet = self.out * (1 - self.out)\n",
    "            dnet_dw = self.X.reshape(-1, 1)  # Reshape X for correct dimension alignment\n",
    "            dnet_db = 1\n",
    "            # The Chain rule\n",
    "            dloss_dw = dnet_dw * (dloss_dout * dout_dnet)\n",
    "            dloss_db = dloss_dout * dout_dnet * dnet_db\n",
    "\n",
    "            # Update weights and bias\n",
    "            self.w = self.w - self.lr * dloss_dw\n",
    "            self.b = self.b - self.lr * dloss_db\n",
    "\n",
    "            # Update the output\n",
    "            self.out = self.fwd_pass()\n",
    "        return self.out\n",
    "\n",
    "perceptron = Perceptron(x, layer_size, n_iter=100)\n",
    "print(f\"Weights (w): {perceptron.w}\")\n",
    "print(f\"Bias (b): {perceptron.b}\")\n",
    "\n",
    "out = perceptron.fwd_pass()\n",
    "print(f\"Output (out): {out}\")\n",
    "\n",
    "loss = perceptron.loss_mse(out, target)\n",
    "print(f\"Initial Loss MSE (L): {loss}\")\n",
    "\n",
    "out = perceptron.grad_loss(target)  # Call grad_loss as a method\n",
    "loss = perceptron.loss_mse(out, target)\n",
    "print(f\"Final Loss MSE (L): {loss}\")\n"
   ]
  },
  {
   "cell_type": "markdown",
   "metadata": {},
   "source": [
    "## 3. **Using Keras**"
   ]
  },
  {
   "cell_type": "code",
   "execution_count": 32,
   "metadata": {},
   "outputs": [
    {
     "ename": "ModuleNotFoundError",
     "evalue": "No module named 'keras'",
     "output_type": "error",
     "traceback": [
      "\u001b[0;31m---------------------------------------------------------------------------\u001b[0m",
      "\u001b[0;31mModuleNotFoundError\u001b[0m                       Traceback (most recent call last)",
      "Cell \u001b[0;32mIn[32], line 2\u001b[0m\n\u001b[1;32m      1\u001b[0m \u001b[38;5;28;01mimport\u001b[39;00m \u001b[38;5;21;01mnumpy\u001b[39;00m \u001b[38;5;28;01mas\u001b[39;00m \u001b[38;5;21;01mnp\u001b[39;00m\n\u001b[0;32m----> 2\u001b[0m \u001b[38;5;28;01mfrom\u001b[39;00m \u001b[38;5;21;01mkeras\u001b[39;00m\u001b[38;5;21;01m.\u001b[39;00m\u001b[38;5;21;01mmodels\u001b[39;00m \u001b[38;5;28;01mimport\u001b[39;00m Sequential\n\u001b[1;32m      3\u001b[0m \u001b[38;5;28;01mfrom\u001b[39;00m \u001b[38;5;21;01mkeras\u001b[39;00m\u001b[38;5;21;01m.\u001b[39;00m\u001b[38;5;21;01mlayers\u001b[39;00m \u001b[38;5;28;01mimport\u001b[39;00m Dense\n\u001b[1;32m      4\u001b[0m \u001b[38;5;28;01mfrom\u001b[39;00m \u001b[38;5;21;01mkeras\u001b[39;00m\u001b[38;5;21;01m.\u001b[39;00m\u001b[38;5;21;01moptimizers\u001b[39;00m \u001b[38;5;28;01mimport\u001b[39;00m SGD\n",
      "\u001b[0;31mModuleNotFoundError\u001b[0m: No module named 'keras'"
     ]
    }
   ],
   "source": [
    "import numpy as np\n",
    "from keras.models import Sequential\n",
    "from keras.layers import Dense\n",
    "from keras.optimizers import SGD\n",
    "\n",
    "# Fix the seed for reproducibility\n",
    "np.random.seed(0)\n",
    "\n",
    "# Example with three inputs:\n",
    "x = np.array([[0.5, 0.3, 0.8]])\n",
    "target = np.array([[0.9]])\n",
    "\n",
    "n_inputs = 3  # Number of inputs\n",
    "layer_size = 1  # Number of neurons in the layer\n",
    "\n",
    "# Define the model\n",
    "model = Sequential()\n",
    "model.add(Dense(layer_size, input_dim=n_inputs, activation='sigmoid'))\n",
    "\n",
    "# Compile the model\n",
    "model.compile(optimizer=SGD(lr=0.1), loss='mean_squared_error')\n",
    "\n",
    "# Train the model\n",
    "model.fit(x, target, epochs=100, verbose=0)\n",
    "\n",
    "# Predict the output\n",
    "out = model.predict(x)\n",
    "print(f\"Output (out): {out}\")\n",
    "\n",
    "# Calculate the loss\n",
    "loss = np.mean((target - out) ** 2)\n",
    "print(f\"Final Loss MSE (L): {loss}\")\n"
   ]
  },
  {
   "cell_type": "markdown",
   "metadata": {},
   "source": [
    "## 4. **Using pytorch**"
   ]
  },
  {
   "cell_type": "code",
   "execution_count": null,
   "metadata": {},
   "outputs": [],
   "source": [
    "import numpy as np\n",
    "import torch\n",
    "import torch.nn as nn\n",
    "import torch.optim as optim\n",
    "\n",
    "# Fix the seed for reproducibility\n",
    "np.random.seed(0)\n",
    "torch.manual_seed(0)\n",
    "\n",
    "# Example with three inputs:\n",
    "x = np.array([[0.5, 0.3, 0.8]], dtype=np.float32)\n",
    "target = np.array([[0.9]], dtype=np.float32)\n",
    "\n",
    "n_inputs = 3  # Number of inputs\n",
    "layer_size = 1  # Number of neurons in the layer\n",
    "\n",
    "# Convert numpy arrays to PyTorch tensors\n",
    "x = torch.tensor(x)\n",
    "target = torch.tensor(target)\n",
    "\n",
    "# Define the model\n",
    "class Perceptron(nn.Module):\n",
    "    def __init__(self, n_inputs, layer_size):\n",
    "        super(Perceptron, self).__init__()\n",
    "        self.linear = nn.Linear(n_inputs, layer_size)\n",
    "        self.sigmoid = nn.Sigmoid()\n",
    "\n",
    "    def forward(self, x):\n",
    "        out = self.linear(x)\n",
    "        out = self.sigmoid(out)\n",
    "        return out\n",
    "\n",
    "model = Perceptron(n_inputs, layer_size)\n",
    "\n",
    "# Define the loss function and optimizer\n",
    "criterion = nn.MSELoss()\n",
    "optimizer = optim.SGD(model.parameters(), lr=0.1)\n",
    "\n",
    "# Train the model\n",
    "for epoch in range(100):\n",
    "    optimizer.zero_grad()\n",
    "    out = model(x)\n",
    "    loss = criterion(out, target)\n",
    "    loss.backward()\n",
    "    optimizer.step()\n",
    "\n",
    "# Predict the output\n",
    "with torch.no_grad():\n",
    "    out = model(x)\n",
    "    print(f\"Output (out): {out.numpy()}\")\n",
    "\n",
    "# Calculate the loss\n",
    "loss = criterion(out, target)\n",
    "print(f\"Final Loss MSE (L): {loss.item()}\")\n"
   ]
  }
 ],
 "metadata": {
  "kernelspec": {
   "display_name": "env",
   "language": "python",
   "name": "python3"
  },
  "language_info": {
   "codemirror_mode": {
    "name": "ipython",
    "version": 3
   },
   "file_extension": ".py",
   "mimetype": "text/x-python",
   "name": "python",
   "nbconvert_exporter": "python",
   "pygments_lexer": "ipython3",
   "version": "3.12.7"
  }
 },
 "nbformat": 4,
 "nbformat_minor": 2
}
