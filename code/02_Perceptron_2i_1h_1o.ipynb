{
 "cells": [
  {
   "cell_type": "markdown",
   "metadata": {},
   "source": [
    "# Perceptron 2 inputs, 1 hidden layer, 1 output"
   ]
  },
  {
   "cell_type": "markdown",
   "metadata": {},
   "source": [
    "Exercice (perceptron):\n",
    "- Réseau de neurones à deux entrées, une sortie et une couche cachée avec un neurone\n",
    "- Les entrées sont 0.1 et 0.5, la sortie souhaitée est 0.2 \n",
    "- Ecrire un code pour la forward pass.\n",
    "- Calculer l'erreur moyenne quadratique.\n",
    "- Rétropropager l'erreur.\n",
    "- Entraîner le réseau"
   ]
  },
  {
   "cell_type": "code",
   "execution_count": 1,
   "metadata": {},
   "outputs": [],
   "source": [
    "import numpy as np\n",
    "\n",
    "i1 = 0.1\n",
    "i2 = 0.5\n",
    "target_o = 0.2"
   ]
  },
  {
   "cell_type": "code",
   "execution_count": null,
   "metadata": {},
   "outputs": [],
   "source": [
    "def sigmoid(x):\n",
    "    return 1/(1+np.exp(-x))\n",
    "\n",
    "def fwd_pass(w1, w2, w3, b1, b2):\n",
    "    net_h = i1*w1 + i2*w2 + b1\n",
    "    out_h = sigmoid(net_h)\n",
    "    net_o = out_h*w3 + b2\n",
    "    out_o = sigmoid(net_o)\n",
    "    return net_h, out_h, net_o, out_o\n",
    "\n",
    "def grad_w():\n",
    "    grad_w1 = -(target_o - out_o)*(1-out_o)*out_o*w3*(1-out_h)*out_h*i1\n",
    "    grad_w2 = -(target_o - out_o)*(1-out_o)*out_o*w3*(1-out_h)*out_h*i2\n",
    "    grad_w3 = -(target_o - out_o)*(1-out_o)*out_o*out_h\n",
    "    return grad_w1, grad_w2, grad_w3\n",
    "\n",
    "def update():\n",
    "    w1 = w1 - grad_w1\n",
    "    w2 = w2 - grad_w2\n",
    "    w3 = w3 - grad_w3\n",
    "    return w1, w2, w3"
   ]
  },
  {
   "cell_type": "code",
   "execution_count": null,
   "metadata": {},
   "outputs": [],
   "source": [
    "import numpy as np\n",
    "\n",
    "class Perceptron:\n",
    "    def __init__(self, input_size, hidden_size, output_size, learning_rate, epochs):\n",
    "        self.input_size = input_size\n",
    "        self.hidden_size = hidden_size\n",
    "        self.output_size = output_size\n",
    "        self.learning_rate = learning_rate\n",
    "        self.epochs = epochs\n",
    "        self.weights_ih = np.random.randn(input_size, hidden_size)\n",
    "        self.bias_h = np.zeros(hidden_size)\n",
    "        self.weights_ho = np.random.randn(hidden_size, output_size)\n",
    "        self.bias_o = np.zeros(output_size)\n",
    "\n",
    "    def sigmoid(self, x):\n",
    "        return 1 / (1 + np.exp(-x))\n",
    "\n",
    "    def forward(self, X):\n",
    "        self.hidden = self.sigmoid(np.dot(X, self.weights_ih) + self.bias_h)\n",
    "        self.output = np.dot(self.hidden, self.weights_ho) + self.bias_o\n",
    "        return self.output\n",
    "\n",
    "    def mse_loss(self, y_true, y_pred):\n",
    "        return np.mean((y_true - y_pred) ** 2)\n",
    "\n",
    "    def backprop(self, X, y_true):\n",
    "        delta_o = -2 * (y_true - self.output)\n",
    "        delta_h = delta_o.dot(self.weights_ho.T) * self.hidden * (1 - self.hidden)\n",
    "        self.weights_ho += self.hidden.T.dot(delta_o) * self.learning_rate\n",
    "        self.bias_o += np.sum(delta_o, axis=0) * self.learning_rate\n",
    "        self.weights_ih += X.T.dot(delta_h) * self.learning_rate\n",
    "        self.bias_h += np.sum(delta_h, axis=0) * self.learning_rate\n",
    "\n",
    "    def fit(self, X, y_true):\n",
    "        for epoch in range(self.epochs):\n",
    "            self.forward(X)\n",
    "            loss = self.mse_loss(y_true, self.output)\n",
    "            self.backprop(X, y_true)\n",
    "            if epoch % 1000 == 0:\n",
    "                print(f\"Epoch {epoch}: Loss = {loss:.4f}\")\n",
    "\n",
    "    def predict(self, X):\n",
    "        return self.forward(X)"
   ]
  },
  {
   "cell_type": "code",
   "execution_count": null,
   "metadata": {},
   "outputs": [],
   "source": [
    "class percept():\n",
    "    \n",
    "    def __init__(self, lr, epochs):\n",
    "        self.lr = lr\n",
    "        self.epochs = epochs\n",
    "    \n",
    "    def sigmoid(x):\n",
    "        return 1/(1+np.exp(-x))\n",
    "\n",
    "    def fwd_pass(self, w1, w2, w3, b1, b2):\n",
    "        net_h = i1*w1 + i2*w2 + b1\n",
    "        out_h = sigmoid(net_h)\n",
    "        net_o = out_h*w3 + b2\n",
    "        out_o = sigmoid(net_o)\n",
    "        return net_h, out_h, net_o, out_o\n",
    "\n",
    "def grad_w():\n",
    "    grad_w1 = -(target_o - out_o)*(1-out_o)*out_o*w3*(1-out_h)*out_h*i1\n",
    "    grad_w2 = -(target_o - out_o)*(1-out_o)*out_o*w3*(1-out_h)*out_h*i2\n",
    "    grad_w3 = -(target_o - out_o)*(1-out_o)*out_o*out_h\n",
    "    return grad_w1, grad_w2, grad_w3\n",
    "\n",
    "def update():\n",
    "    w1 = w1 - grad_w1\n",
    "    w2 = w2 - grad_w2\n",
    "    w3 = w3 - grad_w3\n",
    "    return w1, w2, w3"
   ]
  },
  {
   "cell_type": "markdown",
   "metadata": {},
   "source": [
    "## Perceptron with two inputs, one hidden layer and one output"
   ]
  },
  {
   "cell_type": "markdown",
   "metadata": {},
   "source": [
    "## The Error\n",
    "\n",
    "$Err = \\frac{1}{2}(target_o - out_o)^2$  "
   ]
  },
  {
   "cell_type": "markdown",
   "metadata": {},
   "source": [
    "## Forward Pass\n",
    "\n",
    "$net_h = i_1*w_1 + i_1*w_2 + b_1$  \n",
    "\n",
    "$out_h = sigmoid(net_h)$  \n",
    "\n",
    "$net_o = out_h*w_3 + b_2$  \n",
    "\n",
    "$out_o = sigmoid(net_o)$"
   ]
  },
  {
   "cell_type": "markdown",
   "metadata": {},
   "source": [
    "# The Gradient\n",
    "\n",
    "$\\frac{\\partial Err}{\\partial w_1} = \\frac{\\partial Err}{\\partial out_o}*\\frac{\\partial out_o}{\\partial net_o}*\\frac{\\partial net_o}{\\partial out_h}*\\frac{\\partial out_h}{\\partial net_h}*\\frac{\\partial net_h}{\\partial w_1}$  \n",
    "\n",
    "$\\frac{\\partial Err}{\\partial w_2} = \\frac{\\partial Err}{\\partial out_o}*\\frac{\\partial out_o}{\\partial net_o}*\\frac{\\partial net_o}{\\partial out_h}*\\frac{\\partial out_h}{\\partial net_h}*\\frac{\\partial net_h}{\\partial w_2}$  \n",
    "\n",
    "$\\frac{\\partial Err}{\\partial w_3} = \\frac{\\partial Err}{\\partial out_o}*\\frac{\\partial out_o}{\\partial net_o}*\\frac{\\partial net_o}{\\partial w_3}$"
   ]
  },
  {
   "cell_type": "markdown",
   "metadata": {},
   "source": [
    "We have:  \n",
    "\n",
    "$ Err = \\frac{1}{2}(target_o - out_o)^2$"
   ]
  },
  {
   "cell_type": "markdown",
   "metadata": {},
   "source": [
    "$\\Longrightarrow \\frac{\\partial Err}{\\partial out_o} = \\frac{1}{2}.2.(-1).(target_o - out_o) = -(target_o - out_o)$"
   ]
  },
  {
   "cell_type": "markdown",
   "metadata": {},
   "source": [
    "$f(x) = sigmoid(x) \\Longrightarrow f'(x)=(1-f(x)).f(x)$"
   ]
  },
  {
   "cell_type": "markdown",
   "metadata": {},
   "source": [
    "$ \\Longrightarrow out_o = sigmoid(net_o) \\Longrightarrow \\frac{\\partial out_o}{net_o} = (1 - out_o)out_o$"
   ]
  },
  {
   "cell_type": "markdown",
   "metadata": {},
   "source": [
    "$ \\Longrightarrow out_h = sigmoid(net_h) \\Longrightarrow \\frac{\\partial out_h}{net_h} = (1 - out_h)out_h$"
   ]
  },
  {
   "cell_type": "markdown",
   "metadata": {},
   "source": [
    "$ \\frac{\\partial net_o}{out_h} = w_3$"
   ]
  },
  {
   "cell_type": "markdown",
   "metadata": {},
   "source": [
    "$ \\frac{\\partial net_o}{w_3} = out_h$"
   ]
  },
  {
   "cell_type": "markdown",
   "metadata": {},
   "source": [
    "$ \\frac{\\partial net_h}{w_2} = i_2$"
   ]
  },
  {
   "cell_type": "markdown",
   "metadata": {},
   "source": [
    "# The Gradient\n",
    "\n",
    "$\\frac{\\partial Err}{\\partial w_1} = -(target_o - out_o)(1-out_o)out_o.w_3.(1-out_h)out_h.i_1$  \n",
    "\n",
    "$\\frac{\\partial Err}{\\partial w_2} = -(target_o - out_o)(1-out_o)out_o.w_3.(1-out_h)out_h.i_2$ \n",
    "\n",
    "$\\frac{\\partial Err}{\\partial w_3} = -(target_o - out_o)(1-out_o)out_o.out_h$"
   ]
  }
 ],
 "metadata": {
  "kernelspec": {
   "display_name": "base",
   "language": "python",
   "name": "python3"
  },
  "language_info": {
   "codemirror_mode": {
    "name": "ipython",
    "version": 3
   },
   "file_extension": ".py",
   "mimetype": "text/x-python",
   "name": "python",
   "nbconvert_exporter": "python",
   "pygments_lexer": "ipython3",
   "version": "3.11.5"
  }
 },
 "nbformat": 4,
 "nbformat_minor": 2
}
