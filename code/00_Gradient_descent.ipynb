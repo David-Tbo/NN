{
 "cells": [
  {
   "cell_type": "markdown",
   "metadata": {},
   "source": [
    "## Gradient descent"
   ]
  },
  {
   "cell_type": "markdown",
   "metadata": {},
   "source": [
    "### Why go in the direction opposite to that of the gradient?\n",
    "\n",
    "If we assume $f$ as a continuous fonction, smooth (_lisse_) or differentiable (for example $f$ convexe).\n",
    "\n",
    "With the hypothesis:\n",
    "\n",
    "- 1. <u>Continuity property</u> : a small change $\\epsilon_x$ in $x$ will lead to a small change $\\epsilon_y$ in $f(x)=y$ $\\iff f(x + \\epsilon_x) \\approx f(x) + \\epsilon_y$  \n",
    " \n",
    "- 2. <u>Smooth (or differentiability) property</u>:  \n",
    "    with $\\epsilon_x$ enough small, it is possible to approximate $f$  by a linear function with a slope (_pente_) named $a$.  \n",
    "    By definition of a slope: $a = \\frac{\\epsilon_y}{\\epsilon_x} \\iff \\epsilon_y = a.\\epsilon_x $  \n",
    "    The slope $a$ is called the derivative of $f$ at the point $x$: $f^\\prime(x) = a$\n",
    "\n",
    "$\\Rightarrow f(x + \\epsilon_x) \\approx f(x) + a.\\epsilon_x$  \n",
    "\n",
    "$\\iff a.\\epsilon_x \\approx f(x + \\epsilon_x) - f(x)$\n"
   ]
  },
  {
   "cell_type": "markdown",
   "metadata": {},
   "source": [
    "So decrease $f(x)$ $\\iff$ $f(x+ \\epsilon_x) < f(x) \\iff f(x+ \\epsilon_x) - f(x) < 0 \\iff \\epsilon_y < 0 \\iff a.\\epsilon_x < 0$"
   ]
  },
  {
   "cell_type": "markdown",
   "metadata": {},
   "source": [
    "The result of a multiplication of two terms is negative only if the terms are opposite.  \n",
    "\n",
    "So to get a decrease in $f(x)$:  \n",
    "- $\\epsilon_x$ will be negative if $a=f^\\prime(x)$ is positive \n",
    "- $\\epsilon_x$ will be positive if $a=f^\\prime(x)$ is negative"
   ]
  },
  {
   "cell_type": "markdown",
   "metadata": {},
   "source": [
    "Knowing that $\\epsilon_x = x_{after} - x_{before}$, in order to have a negative multiplication:\n",
    "\n",
    "- if $f^\\prime(x) > 0 \\Rightarrow x_{after} - x_{before} < 0 \\iff x_{after} < x_{before} \\iff$ we will decrase $x$\n",
    "- if $f^\\prime(x) < 0 \\Rightarrow x_{after} - x_{before} > 0 \\iff x_{after} > x_{before} \\iff$ we will increase $x$"
   ]
  },
  {
   "cell_type": "markdown",
   "metadata": {},
   "source": [
    "In other words, we will **go in the opposite direction of the gradient.**"
   ]
  }
 ],
 "metadata": {
  "language_info": {
   "name": "python"
  }
 },
 "nbformat": 4,
 "nbformat_minor": 2
}
